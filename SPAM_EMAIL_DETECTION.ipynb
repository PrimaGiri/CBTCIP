{
  "nbformat": 4,
  "nbformat_minor": 0,
  "metadata": {
    "colab": {
      "provenance": []
    },
    "kernelspec": {
      "name": "python3",
      "display_name": "Python 3"
    },
    "language_info": {
      "name": "python"
    }
  },
  "cells": [
    {
      "cell_type": "markdown",
      "source": [
        "### **IMPORTING REQUIRED PACKAGES**:"
      ],
      "metadata": {
        "id": "ybeJC8_sTi2u"
      }
    },
    {
      "cell_type": "code",
      "execution_count": 37,
      "metadata": {
        "id": "qxAXQuO6Jgvn"
      },
      "outputs": [],
      "source": [
        "#importing packages\n",
        "import pandas as pd\n",
        "import numpy as np\n",
        "from sklearn.model_selection import train_test_split\n",
        "from sklearn.feature_extraction.text import TfidfVectorizer\n",
        "from sklearn.linear_model import LogisticRegression\n",
        "from sklearn.metrics import accuracy_score"
      ]
    },
    {
      "cell_type": "markdown",
      "source": [
        "### LOADING THE DATASET:"
      ],
      "metadata": {
        "id": "-sI_-8qiT6UD"
      }
    },
    {
      "cell_type": "code",
      "source": [
        "df=pd.read_csv(\"/content/Spam Email Detection - spam.csv\")\n",
        "df"
      ],
      "metadata": {
        "id": "3eSVAlD8T0be"
      },
      "execution_count": null,
      "outputs": []
    },
    {
      "cell_type": "markdown",
      "source": [
        "### SLICING THE DATASET:"
      ],
      "metadata": {
        "id": "l8o-Na9GUYsc"
      }
    },
    {
      "cell_type": "code",
      "source": [
        "#slicing the columns(removing the last 3 columns)\n",
        "df=df.iloc[:, :2]\n",
        "df"
      ],
      "metadata": {
        "id": "0l-VIbwYUg8s"
      },
      "execution_count": null,
      "outputs": []
    },
    {
      "cell_type": "markdown",
      "source": [
        "### GETTING THE INFO OF THE DATASET:"
      ],
      "metadata": {
        "id": "Myfms-c3Usd7"
      }
    },
    {
      "cell_type": "code",
      "source": [
        "df.info()"
      ],
      "metadata": {
        "id": "0bSRAzLyNGF5"
      },
      "execution_count": null,
      "outputs": []
    },
    {
      "cell_type": "markdown",
      "source": [
        "### DISPLAYING FIRST 5 DATA:"
      ],
      "metadata": {
        "id": "DNCHuj47VB2L"
      }
    },
    {
      "cell_type": "code",
      "source": [
        "df.head()"
      ],
      "metadata": {
        "id": "LRVNqJK3MTHy"
      },
      "execution_count": null,
      "outputs": []
    },
    {
      "cell_type": "markdown",
      "source": [
        "### CHECKING THE NUMBER OF ROWS AND COLUMNS IN THE DATAFRAME:"
      ],
      "metadata": {
        "id": "XMq9Vc31VMBi"
      }
    },
    {
      "cell_type": "code",
      "source": [
        "df.shape"
      ],
      "metadata": {
        "id": "GfmAboDtMZW6"
      },
      "execution_count": null,
      "outputs": []
    },
    {
      "cell_type": "markdown",
      "source": [
        "### LABEL ENCODING:"
      ],
      "metadata": {
        "id": "BBus6vZoVi8T"
      }
    },
    {
      "cell_type": "code",
      "source": [
        "#spam : 0; ham : 1\n",
        "df.loc[df['v1'] == 'spam', 'v1'] =0\n",
        "df.loc[df['v1'] == 'ham', 'v1'] =1"
      ],
      "metadata": {
        "id": "bfBCOaAaM84N"
      },
      "execution_count": 44,
      "outputs": []
    },
    {
      "cell_type": "markdown",
      "source": [
        "### SEPARATING THE DATA AS TEXTS AND LABELS:"
      ],
      "metadata": {
        "id": "mcb4Z3hCWC-k"
      }
    },
    {
      "cell_type": "code",
      "source": [
        "x = df['v2']\n",
        "y = df['v1']"
      ],
      "metadata": {
        "id": "nVqvIB1PWLNc"
      },
      "execution_count": 45,
      "outputs": []
    },
    {
      "cell_type": "code",
      "source": [
        "x,y"
      ],
      "metadata": {
        "id": "-0-6VN82XJmC"
      },
      "execution_count": null,
      "outputs": []
    },
    {
      "cell_type": "markdown",
      "source": [
        "### TRAIN-TEST SPLIT:"
      ],
      "metadata": {
        "id": "nGHRuoewW4al"
      }
    },
    {
      "cell_type": "code",
      "source": [
        "x_train, x_test, y_train, y_test= train_test_split(x,y, train_size=0.8, random_state=0)\n"
      ],
      "metadata": {
        "id": "ZqWICPaHXAhc"
      },
      "execution_count": 46,
      "outputs": []
    },
    {
      "cell_type": "code",
      "source": [
        "x_train.shape"
      ],
      "metadata": {
        "id": "vWz2ZpF5X5th"
      },
      "execution_count": null,
      "outputs": []
    },
    {
      "cell_type": "code",
      "source": [
        "x_test.shape"
      ],
      "metadata": {
        "id": "oJ2Id379YGgU"
      },
      "execution_count": null,
      "outputs": []
    },
    {
      "cell_type": "markdown",
      "source": [
        "### TRANSFORMING TEXT DATA TO FEATURE VECTOR:"
      ],
      "metadata": {
        "id": "7CT-SVoUZJ1I"
      }
    },
    {
      "cell_type": "code",
      "source": [
        "f_ext = TfidfVectorizer(min_df = 1, stop_words='english', lowercase=True)\n",
        "x_train_features = f_ext.fit_transform(x_train)\n",
        "x_test_features = f_ext.transform(x_test)"
      ],
      "metadata": {
        "id": "8_3HR5BVYKsi"
      },
      "execution_count": 49,
      "outputs": []
    },
    {
      "cell_type": "markdown",
      "source": [
        "### CONVERT y_train AND y_test VALUES AS INTEGERS:"
      ],
      "metadata": {
        "id": "iSemvyF0coP9"
      }
    },
    {
      "cell_type": "code",
      "source": [
        "y_train = y_train.astype('int')\n",
        "y_test = y_test.astype('int')"
      ],
      "metadata": {
        "id": "dQ4WU9V8cyw9"
      },
      "execution_count": 50,
      "outputs": []
    },
    {
      "cell_type": "markdown",
      "source": [
        "### MODEL TRAINING:"
      ],
      "metadata": {
        "id": "ZfTXkevIdlse"
      }
    },
    {
      "cell_type": "code",
      "source": [
        "model=LogisticRegression()"
      ],
      "metadata": {
        "id": "t0gzXtGGdoS-"
      },
      "execution_count": 51,
      "outputs": []
    },
    {
      "cell_type": "code",
      "source": [
        "#training the model using training data\n",
        "model.fit(x_train_features, y_train)"
      ],
      "metadata": {
        "id": "1EhkYSIDdyX9"
      },
      "execution_count": null,
      "outputs": []
    },
    {
      "cell_type": "markdown",
      "source": [
        "### EVALUATING TRAINED MODEL:"
      ],
      "metadata": {
        "id": "Q4dpgRlAeFSM"
      }
    },
    {
      "cell_type": "code",
      "source": [
        "#prediction on training data\n",
        "pred_train = model.predict(x_train_features)\n",
        "accuracy_train = accuracy_score(y_train, pred_train)\n",
        "print(\"Accuracy on training data :\",accuracy_train)"
      ],
      "metadata": {
        "id": "UmcRCHDCeETh"
      },
      "execution_count": null,
      "outputs": []
    },
    {
      "cell_type": "code",
      "source": [
        "#prediction on testing data\n",
        "pred_test = model.predict(x_test_features)\n",
        "accuracy_test = accuracy_score(y_test, pred_test)\n",
        "print(\"Accuracy on testing data :\",accuracy_test)"
      ],
      "metadata": {
        "id": "ttf9OK64f4jx"
      },
      "execution_count": null,
      "outputs": []
    },
    {
      "cell_type": "markdown",
      "source": [
        "### BUILDING EMAIL DETECTION SYSTEM:"
      ],
      "metadata": {
        "id": "cBaQQfUDglKQ"
      }
    },
    {
      "cell_type": "code",
      "source": [
        "sample_mail=[\"URGENT! You have won a 1 week FREE membership in our �100,000 Prize Jackpot! Txt the word: CLAIM to No: 81010 T&C www.dbuk.net LCCLTD POBOX 4403LDNW1A7RW18\"]\n",
        "#converting to feature vector\n",
        "sample_mail_features=f_ext.transform(sample_mail)"
      ],
      "metadata": {
        "id": "7IgtY_Z0gjuU"
      },
      "execution_count": 71,
      "outputs": []
    },
    {
      "cell_type": "markdown",
      "source": [
        "### DETECTING SPAM OR NOT(SPAM : 0 ; HAM : 1)"
      ],
      "metadata": {
        "id": "XOAw9ikphhn1"
      }
    },
    {
      "cell_type": "code",
      "source": [
        "pred=model.predict(sample_mail_features)\n",
        "pred\n",
        "\n",
        "if (pred[0]==1):\n",
        "  print(\"Ham mail\")\n",
        "else:\n",
        "  print(\"Spam mail\")\n"
      ],
      "metadata": {
        "id": "oL7wEcJRhcPa"
      },
      "execution_count": null,
      "outputs": []
    }
  ]
}